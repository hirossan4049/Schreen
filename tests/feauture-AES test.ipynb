{
 "cells": [
  {
   "cell_type": "code",
   "execution_count": 2,
   "metadata": {},
   "outputs": [],
   "source": [
    "# crypt core\n",
    "# https://qiita.com/tomi_linka/items/3e478d1559e13d832486\n",
    "import base64\n",
    "import random\n",
    "from Crypto.Cipher import AES\n",
    "from hashlib import sha256\n",
    "\n",
    "class AESCipher(object):\n",
    "    def __init__(self, key, block_size=32):\n",
    "        self.bs = block_size\n",
    "        if len(key) >= len(str(block_size)):\n",
    "            self.key = key[:block_size]\n",
    "        else:\n",
    "            self.key = self._pad(key)\n",
    "\n",
    "    def generate_salt(self,digit_num):\n",
    "        DIGITS_AND_ALPHABETS = \"0123456789abcdefghijklmnopqrstuvwxyzABCDEFGHIJKLMNOPQRSTUVWXYZ\"\n",
    "        return \"\".join(random.sample(DIGITS_AND_ALPHABETS, digit_num)).encode()\n",
    "\n",
    "    def encrypt(self, raw):\n",
    "        raw = self._pad(raw)\n",
    "        salt = self.generate_salt(AES.block_size)\n",
    "        salted = ''.encode()\n",
    "        dx = ''.encode()\n",
    "        while len(salted) < 48:\n",
    "            hash = dx + self.key.encode() + salt\n",
    "            dx = sha256(hash).digest()\n",
    "            salted = salted + dx\n",
    "\n",
    "        key = salted[0:32]\n",
    "        iv = salted[32:48]\n",
    "\n",
    "        cipher = AES.new(key, AES.MODE_CBC, iv)\n",
    "        return base64.b64encode(salt + cipher.encrypt(raw))\n",
    "\n",
    "    def decrypt(self, enc):\n",
    "        enc = base64.b64decode(enc)\n",
    "        salt = enc[0:16]\n",
    "        ct = enc[16:]\n",
    "        rounds = 3\n",
    "\n",
    "        data00 = self.key.encode() + salt\n",
    "        hash = {}\n",
    "        hash[0] = sha256(data00).digest()\n",
    "        result = hash[0]\n",
    "        for i in range(1, rounds):\n",
    "            hash[i] = sha256(hash[i - 1] + data00).digest()\n",
    "            result += hash[i]\n",
    "\n",
    "        key = result[0:32]\n",
    "        iv = result[32:48]\n",
    "        cipher = AES.new(key, AES.MODE_CBC, iv)\n",
    "        return cipher.decrypt(enc[16:]).decode()\n",
    "\n",
    "    def _pad(self, s):\n",
    "        return s + (self.bs - len(s) % self.bs) * chr(self.bs - len(s) % self.bs)\n",
    "\n",
    "    def _unpad(self, s):\n",
    "        return s[:-ord(s[len(s)-1:])]"
   ]
  },
  {
   "cell_type": "code",
   "execution_count": null,
   "metadata": {},
   "outputs": [],
   "source": []
  },
  {
   "cell_type": "code",
   "execution_count": 16,
   "metadata": {},
   "outputs": [
    {
     "name": "stdout",
     "output_type": "stream",
     "text": [
      "b'R0VQMVQ4TmRIaUtzWjZudy5AjfaTOabWtyvtW9MBwb/EZNh5dsg9RxCiPu4iZNBK'\n",
      "\n",
      "\n",
      "AEDBF\u001b\u001b\u001b\u001b\u001b\u001b\u001b\u001b\u001b\u001b\u001b\u001b\u001b\u001b\u001b\u001b\u001b\u001b\u001b\u001b\u001b\u001b\u001b\u001b\u001b\u001b\u001b\n"
     ]
    }
   ],
   "source": [
    "#  サーバーから'S1JvcWtDenJhVXZTMFBFbXREOg3VAdKsJOx+Ii5gyWKfxw9SDZ8BatVPmpMldvXK'\n",
    "#  クライアント admin123で複合\n",
    "#  AEDBF\n",
    "\n",
    "# パスワードAEDBFでadmin123を暗号化 paswd321\n",
    "# 送信\n",
    "\n",
    "#  paswd321　からAEDBFで復元 admin123 == admin123\n",
    "# admin123とマッチしていたらOK マッチしていなかったらNGを返す。\n",
    "\n",
    "# OKが帰ってきたら/video-feeldをAEDBFで複合。\n",
    "# 頭とケツになにか付けるか。\n",
    "# これが難関な気がする\n",
    "\n",
    "\n",
    "pass_phrase = 'admin123'\n",
    "\n",
    "cipher = AESCipher(pass_phrase)\n",
    "cipher2 = AESCipher(pass_phrase)\n",
    "\n",
    "\n",
    "# 暗号化\n",
    "encryptText = cipher.encrypt('AEDBF')\n",
    "print(encryptText)\n",
    "print('\\n')\n",
    "plainText = cipher2.decrypt(encryptText)\n",
    "print(plainText)"
   ]
  },
  {
   "cell_type": "code",
   "execution_count": null,
   "metadata": {},
   "outputs": [],
   "source": []
  },
  {
   "cell_type": "code",
   "execution_count": null,
   "metadata": {},
   "outputs": [],
   "source": []
  },
  {
   "cell_type": "code",
   "execution_count": null,
   "metadata": {},
   "outputs": [],
   "source": []
  }
 ],
 "metadata": {
  "kernelspec": {
   "display_name": "Python 3",
   "language": "python",
   "name": "python3"
  },
  "language_info": {
   "codemirror_mode": {
    "name": "ipython",
    "version": 3
   },
   "file_extension": ".py",
   "mimetype": "text/x-python",
   "name": "python",
   "nbconvert_exporter": "python",
   "pygments_lexer": "ipython3",
   "version": "3.7.7"
  }
 },
 "nbformat": 4,
 "nbformat_minor": 4
}
