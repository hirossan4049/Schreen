{
 "cells": [
  {
   "cell_type": "code",
   "execution_count": 33,
   "metadata": {},
   "outputs": [],
   "source": [
    "# crypt core\n",
    "# AES.MODE_CBC\n",
    "# https://qiita.com/tomi_linka/items/3e478d1559e13d832486\n",
    "\n",
    "import base64\n",
    "import random\n",
    "from Crypto.Cipher import AES\n",
    "from hashlib import sha256\n",
    "\n",
    "class AESCipher(object):\n",
    "    def __init__(self, key, block_size=32):\n",
    "        self.bs = block_size\n",
    "        if len(key) >= len(str(block_size)):\n",
    "            self.key = key[:block_size]\n",
    "        else:\n",
    "            self.key = self._pad(key)\n",
    "\n",
    "    def generate_salt(self,digit_num):\n",
    "        DIGITS_AND_ALPHABETS = \"0123456789abcdefghijklmnopqrstuvwxyzABCDEFGHIJKLMNOPQRSTUVWXYZ\"\n",
    "        return \"\".join(random.sample(DIGITS_AND_ALPHABETS, digit_num)).encode()\n",
    "\n",
    "    def encrypt(self, raw):\n",
    "        raw = self._pad(raw)\n",
    "        salt = self.generate_salt(AES.block_size)\n",
    "        salted = ''.encode()\n",
    "        dx = ''.encode()\n",
    "        while len(salted) < 48:\n",
    "            hash = dx + self.key.encode() + salt\n",
    "            dx = sha256(hash).digest()\n",
    "            salted = salted + dx\n",
    "\n",
    "        key = salted[0:32]\n",
    "        iv = salted[32:48]\n",
    "\n",
    "        cipher = AES.new(key, AES.MODE_CBC, iv)\n",
    "        return base64.b64encode(salt + cipher.encrypt(raw))\n",
    "\n",
    "    def decrypt(self, enc):\n",
    "        enc = base64.b64decode(enc)\n",
    "        salt = enc[0:16]\n",
    "        ct = enc[16:]\n",
    "        rounds = 3\n",
    "\n",
    "        data00 = self.key.encode() + salt\n",
    "        hash = {}\n",
    "        hash[0] = sha256(data00).digest()\n",
    "        result = hash[0]\n",
    "        for i in range(1, rounds):\n",
    "            hash[i] = sha256(hash[i - 1] + data00).digest()\n",
    "            result += hash[i]\n",
    "\n",
    "        key = result[0:32]\n",
    "        iv = result[32:48]\n",
    "        cipher = AES.new(key, AES.MODE_CBC, iv)\n",
    "        return cipher.decrypt(enc[16:]).decode()\n",
    "\n",
    "    def _pad(self, s):\n",
    "        return s + (self.bs - len(s) % self.bs) * chr(self.bs - len(s) % self.bs)\n",
    "\n",
    "    def _unpad(self, s):\n",
    "        return s[:-ord(s[len(s)-1:])]"
   ]
  },
  {
   "cell_type": "code",
   "execution_count": 34,
   "metadata": {},
   "outputs": [],
   "source": [
    "BLOCK_SIZE = 16\n",
    "# key = b\"1234567890123456\" # TODO change to something with more entropy\n",
    "def pad(data):\n",
    "    length = BLOCK_SIZE - (len(data) % BLOCK_SIZE)\n",
    "    return data + chr(length)*length\n",
    "\n",
    "def unpad(data):\n",
    "    return data[:-ord(data[-1])]\n",
    "\n",
    "class CryptoJSAES():\n",
    "    def __init__(self):\n",
    "        pass\n",
    "    def encrypt(self,message, key):\n",
    "        IV = Random.new().read(BLOCK_SIZE)\n",
    "        aes = AES.new(key, AES.MODE_CBC, IV)\n",
    "        return base64.b64encode(IV + aes.encrypt(pad(message)))\n",
    "\n",
    "    def decrypt(self,encrypted, key):\n",
    "        encrypted = base64.b64decode(encrypted)\n",
    "        IV = encrypted[:BLOCK_SIZE]\n",
    "        aes = AES.new(key, AES.MODE_CBC, IV)\n",
    "        return unpad(aes.decrypt(encrypted[BLOCK_SIZE:]))"
   ]
  },
  {
   "cell_type": "code",
   "execution_count": 35,
   "metadata": {},
   "outputs": [
    {
     "name": "stdout",
     "output_type": "stream",
     "text": [
      "<__main__.AESCipher object at 0x10871d4d0>\n",
      "b'U3g2anUyM3FQZ2xzYzVOWJHH8i9sjX5wjS/NsTVCWMbNHmIJ9UdAq5Gm3E0XL7mv'\n",
      "\n",
      "\n"
     ]
    },
    {
     "ename": "NameError",
     "evalue": "name 'plainText' is not defined",
     "output_type": "error",
     "traceback": [
      "\u001b[0;31m-----------------------\u001b[0m",
      "\u001b[0;31mNameError\u001b[0mTraceback (most recent call last)",
      "\u001b[0;32m<ipython-input-35-e39e604312e6>\u001b[0m in \u001b[0;36m<module>\u001b[0;34m\u001b[0m\n\u001b[1;32m     26\u001b[0m \u001b[0mprint\u001b[0m\u001b[0;34m(\u001b[0m\u001b[0;34m'\\n'\u001b[0m\u001b[0;34m)\u001b[0m\u001b[0;34m\u001b[0m\u001b[0;34m\u001b[0m\u001b[0m\n\u001b[1;32m     27\u001b[0m \u001b[0;31m# plainText = cipher2.decrypt(b'U2FsdGVkX1/nYNh77FxmqVGRw4AvVQPypVwsiDZigXw=')\u001b[0m\u001b[0;34m\u001b[0m\u001b[0;34m\u001b[0m\u001b[0;34m\u001b[0m\u001b[0m\n\u001b[0;32m---> 28\u001b[0;31m \u001b[0mprint\u001b[0m\u001b[0;34m(\u001b[0m\u001b[0mplainText\u001b[0m\u001b[0;34m)\u001b[0m\u001b[0;34m\u001b[0m\u001b[0;34m\u001b[0m\u001b[0m\n\u001b[0m\u001b[1;32m     29\u001b[0m \u001b[0;34m\u001b[0m\u001b[0m\n\u001b[1;32m     30\u001b[0m \u001b[0mprint\u001b[0m\u001b[0;34m(\u001b[0m\u001b[0;34m'JS DE TAMESU'\u001b[0m\u001b[0;34m)\u001b[0m\u001b[0;34m\u001b[0m\u001b[0;34m\u001b[0m\u001b[0m\n",
      "\u001b[0;31mNameError\u001b[0m: name 'plainText' is not defined"
     ]
    }
   ],
   "source": [
    "#  サーバーから'S1JvcWtDenJhVXZTMFBFbXREOg3VAdKsJOx+Ii5gyWKfxw9SDZ8BatVPmpMldvXK'\n",
    "#  クライアント admin123で複合\n",
    "#  AEDBF\n",
    "\n",
    "# パスワードAEDBFでadmin123を暗号化 paswd321\n",
    "# 送信\n",
    "\n",
    "#  paswd321　からAEDBFで復元 admin123 == admin123\n",
    "# admin123とマッチしていたらOK マッチしていなかったらNGを返す。\n",
    "\n",
    "# OKが帰ってきたら/video-feeldをAEDBFで複合。\n",
    "# 頭とケツになにか付けるか。\n",
    "# これが難関な気がする\n",
    "\n",
    "\n",
    "pass_phrase = 'password'\n",
    "\n",
    "cipher = AESCipher(pass_phrase)\n",
    "cipher2 = AESCipher(pass_phrase)\n",
    "print(cipher)\n",
    "\n",
    "\n",
    "# 暗号化\n",
    "encryptText = cipher.encrypt('AEDBF')\n",
    "print(encryptText)\n",
    "print('\\n')\n",
    "# plainText = cipher2.decrypt(b'U2FsdGVkX1/nYNh77FxmqVGRw4AvVQPypVwsiDZigXw=')\n",
    "print(plainText)\n",
    "\n",
    "print('JS DE TAMESU')\n",
    "cryjs = CryptoJSAES()\n",
    "cryjs.decrypt(b'U2FsdGVkX1/nYNh77FxmqVGRw4AvVQPypVwsiDZigXw=',b'password')"
   ]
  },
  {
   "cell_type": "code",
   "execution_count": 6,
   "metadata": {},
   "outputs": [
    {
     "name": "stdout",
     "output_type": "stream",
     "text": [
      "b'\\x9b\\xe6p\\xdc-\\x7fBgDR\\xc0\\xa1aTf\\xc0'\n",
      "b'Awesome python!!'\n"
     ]
    }
   ],
   "source": [
    "# easy\n",
    "#secret_keyは、半角16,24,32のうちのいずれかの長さにしなくてはなりません。\n",
    "# また、messageは半角16文字の倍数の長さでなくてはなりません。\n",
    "from Crypto.Cipher import AES\n",
    "from Crypto import Random\n",
    "\n",
    "secret_key = 'this is secret:)'\n",
    "message = 'Awesome python!!'\n",
    "\n",
    "crypto = AES.new(secret_key)\n",
    "ango = crypto.encrypt(message)\n",
    "print(ango)\n",
    "print(crypto.decrypt(ango))"
   ]
  },
  {
   "cell_type": "code",
   "execution_count": null,
   "metadata": {},
   "outputs": [],
   "source": []
  },
  {
   "cell_type": "code",
   "execution_count": 1,
   "metadata": {},
   "outputs": [
    {
     "name": "stdout",
     "output_type": "stream",
     "text": [
      "iv : b'75392581420e576a7ac0cfe9d205bca2'\n",
      "encrypted : b'vwIKvUet7fWTlcvNDNfxxg=='\n",
      "6\n",
      "54 16\n",
      "b''\n"
     ]
    },
    {
     "ename": "ValueError",
     "evalue": "Input is not padded or padding is corrupt",
     "output_type": "error",
     "traceback": [
      "\u001b[0;31m-----------------------\u001b[0m",
      "\u001b[0;31mValueError\u001b[0mTraceback (most recent call last)",
      "\u001b[0;32m<ipython-input-1-b12c1fdd3d51>\u001b[0m in \u001b[0;36m<module>\u001b[0;34m\u001b[0m\n\u001b[1;32m     14\u001b[0m \u001b[0;34m\u001b[0m\u001b[0m\n\u001b[1;32m     15\u001b[0m \u001b[0;31m#decrypted = Cryptor.decrypt('r19YcF8gc8bgk5NNui6I3w==', Cryptor.KEY, '6aa60df8ff95955ec605d5689036ee88')\u001b[0m\u001b[0;34m\u001b[0m\u001b[0;34m\u001b[0m\u001b[0;34m\u001b[0m\u001b[0m\n\u001b[0;32m---> 16\u001b[0;31m \u001b[0mdecrypted\u001b[0m \u001b[0;34m=\u001b[0m \u001b[0mCryptor\u001b[0m\u001b[0;34m.\u001b[0m\u001b[0mdecrypt\u001b[0m\u001b[0;34m(\u001b[0m\u001b[0mencry\u001b[0m\u001b[0;34m,\u001b[0m \u001b[0mCryptor\u001b[0m\u001b[0;34m.\u001b[0m\u001b[0mKEY\u001b[0m\u001b[0;34m,\u001b[0m \u001b[0miv\u001b[0m\u001b[0;34m)\u001b[0m\u001b[0;34m\u001b[0m\u001b[0;34m\u001b[0m\u001b[0m\n\u001b[0m\u001b[1;32m     17\u001b[0m \u001b[0;34m\u001b[0m\u001b[0m\n\u001b[1;32m     18\u001b[0m \u001b[0mprint\u001b[0m \u001b[0;34m(\u001b[0m\u001b[0;34m\"decrypted : %s\"\u001b[0m \u001b[0;34m%\u001b[0m \u001b[0mdecrypted\u001b[0m\u001b[0;34m)\u001b[0m\u001b[0;34m\u001b[0m\u001b[0;34m\u001b[0m\u001b[0m\n",
      "\u001b[0;32m~/Documents/pg/python/nowProject/schreen/Schreen/tests/feauture-aes/AES_Compatible_Cryptjs.py\u001b[0m in \u001b[0;36mdecrypt\u001b[0;34m(cls, in_encrypted, in_key, in_iv)\u001b[0m\n\u001b[1;32m     54\u001b[0m \u001b[0;34m\u001b[0m\u001b[0m\n\u001b[1;32m     55\u001b[0m         \u001b[0mdecrypted\u001b[0m \u001b[0;34m=\u001b[0m \u001b[0maes\u001b[0m\u001b[0;34m.\u001b[0m\u001b[0mdecrypt\u001b[0m\u001b[0;34m(\u001b[0m\u001b[0mbinascii\u001b[0m\u001b[0;34m.\u001b[0m\u001b[0ma2b_base64\u001b[0m\u001b[0;34m(\u001b[0m\u001b[0min_encrypted\u001b[0m\u001b[0;34m)\u001b[0m\u001b[0;34m.\u001b[0m\u001b[0mrstrip\u001b[0m\u001b[0;34m(\u001b[0m\u001b[0;34m)\u001b[0m\u001b[0;34m)\u001b[0m\u001b[0;34m\u001b[0m\u001b[0;34m\u001b[0m\u001b[0m\n\u001b[0;32m---> 56\u001b[0;31m         \u001b[0;32mreturn\u001b[0m \u001b[0mcls\u001b[0m\u001b[0;34m.\u001b[0m\u001b[0m_unpad_string\u001b[0m\u001b[0;34m(\u001b[0m\u001b[0mdecrypted\u001b[0m\u001b[0;34m)\u001b[0m\u001b[0;34m\u001b[0m\u001b[0;34m\u001b[0m\u001b[0m\n\u001b[0m",
      "\u001b[0;32m~/Documents/pg/python/nowProject/schreen/Schreen/tests/feauture-aes/AES_Compatible_Cryptjs.py\u001b[0m in \u001b[0;36m_unpad_string\u001b[0;34m(cls, in_string)\u001b[0m\n\u001b[1;32m     27\u001b[0m         \u001b[0mprint\u001b[0m\u001b[0;34m(\u001b[0m\u001b[0min_string\u001b[0m\u001b[0;34m[\u001b[0m\u001b[0;34m:\u001b[0m\u001b[0min_len\u001b[0m \u001b[0;34m-\u001b[0m \u001b[0mpad_size\u001b[0m\u001b[0;34m]\u001b[0m\u001b[0;34m)\u001b[0m\u001b[0;34m\u001b[0m\u001b[0;34m\u001b[0m\u001b[0m\n\u001b[1;32m     28\u001b[0m         \u001b[0;32mif\u001b[0m \u001b[0mpad_size\u001b[0m \u001b[0;34m>\u001b[0m \u001b[0mcls\u001b[0m\u001b[0;34m.\u001b[0m\u001b[0mBLOCK_SIZE\u001b[0m\u001b[0;34m:\u001b[0m\u001b[0;34m\u001b[0m\u001b[0;34m\u001b[0m\u001b[0m\n\u001b[0;32m---> 29\u001b[0;31m             \u001b[0;32mraise\u001b[0m \u001b[0mValueError\u001b[0m\u001b[0;34m(\u001b[0m\u001b[0;34m'Input is not padded or padding is corrupt'\u001b[0m\u001b[0;34m)\u001b[0m\u001b[0;34m\u001b[0m\u001b[0;34m\u001b[0m\u001b[0m\n\u001b[0m\u001b[1;32m     30\u001b[0m         \u001b[0;32mreturn\u001b[0m \u001b[0min_string\u001b[0m\u001b[0;34m[\u001b[0m\u001b[0;34m:\u001b[0m\u001b[0min_len\u001b[0m \u001b[0;34m-\u001b[0m \u001b[0mpad_size\u001b[0m\u001b[0;34m]\u001b[0m\u001b[0;34m\u001b[0m\u001b[0;34m\u001b[0m\u001b[0m\n\u001b[1;32m     31\u001b[0m \u001b[0;34m\u001b[0m\u001b[0m\n",
      "\u001b[0;31mValueError\u001b[0m: Input is not padded or padding is corrupt"
     ]
    }
   ],
   "source": [
    "# cryptoJS \n",
    "# https://fisproject.jp/2015/01/crypto-js-pycrypto-compatible/\n",
    "from AES_Compatible_Cryptjs import Cryptor\n",
    "\n",
    "import binascii\n",
    "\n",
    "iv, encrypted = Cryptor.encrypt('fisproject', Cryptor.KEY)\n",
    "\n",
    "print( \"iv : %s\" % iv)\n",
    "# => iv  6aa60df8ff95955ec605d5689036ee88\n",
    "print (\"encrypted : %s\" % binascii.b2a_base64(encrypted).rstrip())\n",
    "encry = binascii.b2a_base64(encrypted).rstrip()\n",
    "# => encrypted  r19YcF8gc8bgk5NNui6I3w==\n",
    "\n",
    "#decrypted = Cryptor.decrypt('r19YcF8gc8bgk5NNui6I3w==', Cryptor.KEY, '6aa60df8ff95955ec605d5689036ee88')\n",
    "decrypted = Cryptor.decrypt(encry, Cryptor.KEY, iv)\n",
    "\n",
    "print (\"decrypted : %s\" % decrypted)\n"
   ]
  },
  {
   "cell_type": "code",
   "execution_count": null,
   "metadata": {},
   "outputs": [],
   "source": []
  },
  {
   "cell_type": "code",
   "execution_count": 31,
   "metadata": {},
   "outputs": [
    {
     "name": "stdout",
     "output_type": "stream",
     "text": [
      "b'vm0oF/1/T2iP8h6rmQNr5NMeDbuSZNwCrrLjggmzEpDVp01C7RpMiJDrFiLjdideiFnFxUwkQawDvIl3Y6gM08f+9RTz32drgpB+G50EbG9yEcZ8zaids1CC9QWEjZB7kcI2rD/Owxc6n1d1sMmmTZSsuca8R9Hht0PUkQMJGUf23sXbo4YS0PqxARQPkE6U29NMq6xboiXgTGeDapvirDG7xJeTJCExKbDG6rgUGAsIWe2avrOpx97AJfzgK1dY'\n",
      "176\n",
      "16\n"
     ]
    }
   ],
   "source": [
    "# OMG https://stackoverflow.com/questions/11567290/cryptojs-and-pycrypto-working-together\n",
    "\n",
    "import base64\n",
    "from Crypto.Cipher import AES\n",
    "from Crypto import Random\n",
    "\n",
    "BLOCK_SIZE = 16\n",
    "key = b\"1234567890123456\" # TODO change to something with more entropy\n",
    "\n",
    "def pad(data):\n",
    "    length = BLOCK_SIZE - (len(data) % BLOCK_SIZE)\n",
    "    return data + chr(length)*length\n",
    "\n",
    "def unpad(data):\n",
    "    # return data[:-ord(data[-1])]\n",
    "    return data\n",
    "   # return data[:data[-1]]\n",
    "\n",
    "\n",
    "def encrypt(message, key):\n",
    "    IV = Random.new().read(BLOCK_SIZE)\n",
    "    aes = AES.new(key, AES.MODE_CBC, IV)\n",
    "    return base64.b64encode(IV + aes.encrypt(pad(message)))\n",
    "\n",
    "def decrypt(encrypted, key):\n",
    "    encrypted = base64.b64decode(encrypted)\n",
    "    IV = encrypted[:BLOCK_SIZE]\n",
    "    aes = AES.new(key, AES.MODE_CBC, IV)\n",
    "#     return unpad(aes.decrypt(encrypted[BLOCK_SIZE:]))\n",
    "    return aes.decrypt(encrypted[BLOCK_SIZE:])\n",
    "\n",
    "\n",
    "endd = encrypt('adsdfasa'*20,key)\n",
    "print(endd)\n",
    "endd2 = decrypt(endd,key)\n",
    "print(len(endd2))\n",
    "endd2 = decrypt('Xe+eNphppuYPJJeF2fHQitFnPY1arQvHkAegOCl/E4I=',key)\n",
    "print(len(endd2))"
   ]
  },
  {
   "cell_type": "code",
   "execution_count": null,
   "metadata": {},
   "outputs": [],
   "source": []
  },
  {
   "cell_type": "code",
   "execution_count": null,
   "metadata": {},
   "outputs": [],
   "source": []
  },
  {
   "cell_type": "code",
   "execution_count": null,
   "metadata": {},
   "outputs": [],
   "source": []
  }
 ],
 "metadata": {
  "kernelspec": {
   "display_name": "Python 3",
   "language": "python",
   "name": "python3"
  },
  "language_info": {
   "codemirror_mode": {
    "name": "ipython",
    "version": 3
   },
   "file_extension": ".py",
   "mimetype": "text/x-python",
   "name": "python",
   "nbconvert_exporter": "python",
   "pygments_lexer": "ipython3",
   "version": "3.7.7"
  }
 },
 "nbformat": 4,
 "nbformat_minor": 4
}
